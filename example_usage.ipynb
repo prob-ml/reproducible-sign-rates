{
 "cells": [
  {
   "cell_type": "code",
   "execution_count": 1,
   "id": "8025d925-dbdd-49c7-b53d-ff6c7c385d29",
   "metadata": {},
   "outputs": [],
   "source": [
    "%load_ext autoreload\n",
    "%autoreload 2\n",
    "\n",
    "import numpy as np\n",
    "import scipy as sp\n",
    "import scipy.stats\n",
    "\n",
    "import tqdm.notebook\n",
    "\n",
    "rng=np.random.default_rng()\n",
    "import matplotlib.pyplot as plt\n",
    "%matplotlib inline\n",
    "\n",
    "import reproduciblesignrates"
   ]
  },
  {
   "cell_type": "markdown",
   "id": "6023feff-bf4a-42f2-91ac-676db87de9da",
   "metadata": {},
   "source": [
    "# 1. Overview\n",
    "\n",
    "This package is designed to analyze data from the following setting.\n",
    "\n",
    "- We are interested in real-valued parameters $\\theta_1,\\theta_2 ... \\theta_n$.  For example, $\\theta_i$ might indicate the effect of a particular drug on a particular gene.\n",
    "- We have designed an experimental procedure which can estimate these parameters.\n",
    "- We have two performed the experiment twice.\n",
    "\n",
    "Given data of this form, we assume the user can calculate three quantities of interest for each parameter $\\theta_i$.  \n",
    "\n",
    "1. Use the first replicate (\"the training replicate\") to produce a $p$-value, denoted $\\rho_i$, for null hypothesis that $\\theta_i=0$.\n",
    "1. Use the training experiment to produce an object $\\hat Y_i$ estimating the sign of $\\theta_i$ (i.e., if the estimator is accurate, $\\hat Y_i=1$ if $\\theta_i>0$ and $\\hat Y_i=-1$ if $\\theta_i<0$).\n",
    "1. Use the second replicate (\"the validation replicate\") produce an independent estimate $Y_i$ estimating the sign of $\\theta_i$.\n",
    "\n",
    "This package uses $\\rho,\\hat Y,Y$ to visualize whether the two replicates yielded the same results.  It does so using a quantity called the **Reproducible Sign Proportion**, defined as \n",
    "\n",
    "$$\\mathrm{RSP}(Y;\\hat Y,\\rho,\\alpha) \\triangleq \\frac{\\#\\{i:\\ \\hat Y_i = Y_i,\\ \\rho_i\\leq \\alpha\\}}{\\#\\{i:\\ \\rho_i\\leq \\alpha\\}}$$\n",
    "\n",
    "In some cases each experimental procedure includes many subexperiments, and each subexperiment is approximately independent.  With subexperiments, this package can be used to also estimate confidence interval for the **Reproducible Sign Rate**, defined as $\\mathrm{RSR}(\\hat Y,\\rho,\\alpha)\\triangleq \\mathbb{E}_Y[\\mathrm{RSP}(Y;\\hat Y,\\rho,\\alpha)]$.  \n",
    "\n",
    "The rest of this notebook will go through a toy example."
   ]
  },
  {
   "cell_type": "markdown",
   "id": "896eb741-fd35-4dcc-9eb1-2c01b2b2c16d",
   "metadata": {},
   "source": [
    "# 2. Create simulated data (we'll use this to show how to use this package)"
   ]
  },
  {
   "cell_type": "markdown",
   "id": "a908128c-7642-4f8a-bff5-5e678197338a",
   "metadata": {},
   "source": [
    "We simulate a single-cell mRNA experiment with the following procedure.  \n",
    "1. Collect a large population of cells.\n",
    "2. Divide the cells into 100 groups.\n",
    "3. Divide each group into two subgroups: a treatment and a control group.  Apply a treatment to the each treatment subgroup.\n",
    "4. Measure gene expression for all cells.\n",
    "\n",
    "This experiment is designed to estimate parameters of the form\n",
    "\n",
    "$$\\theta_{tg} = \\mbox{the log-fold-change in the mean expression of gene $g$ when exposed to treatment $t$?}$$\n",
    "\n",
    "We will assume that the procedure for each treatment is an independent subexperiment.  Having multiple independent subexperiments will enable us to obtain confidence intervals for the RSR."
   ]
  },
  {
   "cell_type": "markdown",
   "id": "7092abab-04d3-4d68-8be1-965b9afc484e",
   "metadata": {},
   "source": [
    "### Create \"ground truth\" for how the treatments affect the cells.\n"
   ]
  },
  {
   "cell_type": "code",
   "execution_count": 63,
   "id": "14a65880-cc93-4986-87c6-a4d89c16adbe",
   "metadata": {},
   "outputs": [],
   "source": [
    "n_treatments=100\n",
    "n_genes=300\n",
    "control_means=rng.exponential(size=(n_genes)) # mean expression of unperturbed cells\n",
    "\n",
    "# most treatments do nothing to most genes\n",
    "# but a few have a large effect\n",
    "treatment_lfcs=np.where(\n",
    "    rng.uniform(size=(n_treatments,n_genes))<.01,\n",
    "    rng.normal(size=(n_treatments,n_genes)),\n",
    "    0\n",
    ")\n",
    "treatment_means=control_means*np.exp(treatment_lfcs)"
   ]
  },
  {
   "cell_type": "markdown",
   "id": "8c078424-9373-4541-83ca-b4c707dde527",
   "metadata": {},
   "source": [
    "### Create a function that runs the simulated experiment"
   ]
  },
  {
   "cell_type": "code",
   "execution_count": 64,
   "id": "4ef2cf92-bcdd-4d78-897e-1f8e093c0b80",
   "metadata": {},
   "outputs": [],
   "source": [
    "def perform_experiment(n_cells_per_group):\n",
    "    treatment_measurements=[]\n",
    "    control_measurements=[]\n",
    "    for i in range(n_treatments):\n",
    "        control_measurements.append(rng.poisson(control_means,size=(n_cells_per_group,n_genes)))\n",
    "        treatment_measurements.append(rng.poisson(treatment_means[i],size=(n_cells_per_group,n_genes)))\n",
    "    \n",
    "    return control_measurements,treatment_measurements"
   ]
  },
  {
   "cell_type": "markdown",
   "id": "c1f280fb-c1ce-45a8-92a1-65c953d51846",
   "metadata": {},
   "source": [
    "### Create two replicates of the data"
   ]
  },
  {
   "cell_type": "code",
   "execution_count": 65,
   "id": "0e6347a2-3ea2-49bb-b022-864861db4709",
   "metadata": {},
   "outputs": [],
   "source": [
    "rep1_control_measurements,rep1_treatment_measurements = perform_experiment(25)\n",
    "rep2_control_measurements,rep2_treatment_measurements = perform_experiment(25)"
   ]
  },
  {
   "cell_type": "markdown",
   "id": "4bed5bd2-6303-4139-80fc-5118f35e7223",
   "metadata": {},
   "source": [
    "### Perform hypothesis tests on the measurements.\n",
    "\n",
    "For each parameter $\\theta_{tg}$, we compute\n",
    "- a $p$-value testing the null hypothesis that $\\theta_{tg}=0$ and \n",
    "- an estimate for $\\mathrm{sign}(\\theta_{tg})$."
   ]
  },
  {
   "cell_type": "code",
   "execution_count": 66,
   "id": "cf156f3b-2062-47f8-b690-431e230ac210",
   "metadata": {},
   "outputs": [],
   "source": [
    "def analyze_experiment(control_measurements,treatment_measurements,eps=1e-9):\n",
    "    p_values=np.zeros((n_treatments,n_genes)) # p_values[t,g] gives p-value for gene g and treatment t\n",
    "    sign_estimates=np.zeros((n_treatments,n_genes),dtype=int) # sign_estimates[t,g] estimates sign(theta_tg) for gene g and treatment t\n",
    "    \n",
    "    for t in tqdm.notebook.trange(n_treatments):\n",
    "        X=control_measurements[t]\n",
    "        Y=treatment_measurements[t]\n",
    "\n",
    "        # when X,Y are both Poisson, mann whitney gives a valid\n",
    "        # test for the null hypothesis that E[X]=E[Y]\n",
    "        p_values[t]=sp.stats.mannwhitneyu(X,Y).pvalue  \n",
    "\n",
    "        # estimate sign(log(E[X]/E[Y])) (with epsilon added to handle cases with all zeros)\n",
    "        sign_estimates[t] = np.sign(np.log(np.mean(Y,axis=0)+eps)-np.log(np.mean(X,axis=0)+eps)).astype(int)\n",
    "                \n",
    "    return p_values,sign_estimates"
   ]
  },
  {
   "cell_type": "code",
   "execution_count": 67,
   "id": "67136a4c-cf0e-4fa5-a68c-b6d6215fe6b9",
   "metadata": {},
   "outputs": [
    {
     "data": {
      "application/vnd.jupyter.widget-view+json": {
       "model_id": "88f31ee416f24442af2a6a1de353f6dc",
       "version_major": 2,
       "version_minor": 0
      },
      "text/plain": [
       "  0%|          | 0/100 [00:00<?, ?it/s]"
      ]
     },
     "metadata": {},
     "output_type": "display_data"
    },
    {
     "data": {
      "application/vnd.jupyter.widget-view+json": {
       "model_id": "5984ca5c143f400a897b6558157d98c9",
       "version_major": 2,
       "version_minor": 0
      },
      "text/plain": [
       "  0%|          | 0/100 [00:00<?, ?it/s]"
      ]
     },
     "metadata": {},
     "output_type": "display_data"
    }
   ],
   "source": [
    "rep1_p_values,rep1_sign_estimates=analyze_experiment(rep1_control_measurements,rep1_treatment_measurements)\n",
    "rep2_p_values,rep2_sign_estimates=analyze_experiment(rep2_control_measurements,rep2_treatment_measurements)"
   ]
  },
  {
   "cell_type": "markdown",
   "id": "e40b524e-3617-4bec-b848-eec099dddc6a",
   "metadata": {},
   "source": [
    "# 3. Plot reproducibility between replicates to estimate the the RSR"
   ]
  },
  {
   "cell_type": "code",
   "execution_count": 84,
   "id": "7308e551-4be1-40ef-9249-1086afcd35b4",
   "metadata": {},
   "outputs": [
    {
     "data": {
      "text/plain": [
       "<matplotlib.legend.Legend at 0x7f1350069e80>"
      ]
     },
     "execution_count": 84,
     "metadata": {},
     "output_type": "execute_result"
    },
    {
     "data": {
      "image/png": "[encoded data removed]",
      "text/plain": [
       "<Figure size 432x288 with 1 Axes>"
      ]
     },
     "metadata": {
      "needs_background": "light"
     },
     "output_type": "display_data"
    }
   ],
   "source": [
    "info=reproduciblesignrates.process_from_matrices(np.log(rep1_p_values),rep1_sign_estimates,rep2_sign_estimates)\n",
    "plt.plot(info.median_rejections,info.RSP,label='RSP (an unbiased estimator for the RSR)')\n",
    "plt.fill_between(info.median_rejections,*info.confidence_interval(.05),alpha=.5,label='95% confidence for RSR')\n",
    "\n",
    "plt.gca().set_xscale('log')\n",
    "plt.xlabel(\"Median rejections per sub-experiment\")\n",
    "plt.legend()"
   ]
  },
  {
   "cell_type": "markdown",
   "id": "297c6b36-b69a-4309-b6da-22c166ab33d1",
   "metadata": {},
   "source": [
    "# 4. Note that $(2-2\\cdot \\mathrm{RSR})$ controls Type S error"
   ]
  },
  {
   "cell_type": "code",
   "execution_count": 94,
   "id": "4f4c7ef5-e591-4ef7-a819-90d61e916880",
   "metadata": {},
   "outputs": [
    {
     "data": {
      "text/plain": [
       "<matplotlib.legend.Legend at 0x7f1342f7eac0>"
      ]
     },
     "execution_count": 94,
     "metadata": {},
     "output_type": "execute_result"
    },
    {
     "data": {
      "image/png": "[encoded data removed]",
      "text/plain": [
       "<Figure size 432x288 with 1 Axes>"
      ]
     },
     "metadata": {
      "needs_background": "light"
     },
     "output_type": "display_data"
    }
   ],
   "source": [
    "gt_info=reproduciblesignrates.process_from_matrices(np.log(rep1_p_values),rep1_sign_estimates,np.sign(treatment_lfcs).astype(int))\n",
    "plt.plot(info.median_rejections,1-gt_info.RSP,label=\"Type S error proportion\")\n",
    "plt.plot(info.median_rejections,np.clip(2-2*info.RSP,0,1),label=\"Estimated upper bound\\n on Type S error rate (2-2*RSR)\")\n",
    "\n",
    "plt.gca().set_xscale('log')\n",
    "plt.xlabel(\"Median rejections per sub-experiment\")\n",
    "plt.legend()"
   ]
  },
  {
   "cell_type": "code",
   "execution_count": null,
   "id": "9152f47b-fd23-4287-bf62-e714fc6acf0c",
   "metadata": {},
   "outputs": [],
   "source": []
  }
 ],
 "metadata": {
  "kernelspec": {
   "display_name": "Python 3 (ipykernel)",
   "language": "python",
   "name": "python3"
  },
  "language_info": {
   "codemirror_mode": {
    "name": "ipython",
    "version": 3
   },
   "file_extension": ".py",
   "mimetype": "text/x-python",
   "name": "python",
   "nbconvert_exporter": "python",
   "pygments_lexer": "ipython3",
   "version": "3.9.7"
  }
 },
 "nbformat": 4,
 "nbformat_minor": 5
}
